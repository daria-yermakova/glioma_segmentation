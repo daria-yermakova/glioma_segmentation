{
 "cells": [
  {
   "cell_type": "code",
   "execution_count": 1,
   "metadata": {
    "collapsed": true,
    "ExecuteTime": {
     "start_time": "2024-05-05T13:56:18.483241Z",
     "end_time": "2024-05-05T13:56:21.695337Z"
    }
   },
   "outputs": [
    {
     "name": "stdout",
     "output_type": "stream",
     "text": [
      "tr tensor([0.0115]) val tensor([0.0093])\n"
     ]
    }
   ],
   "source": [
    "from src.utils import compute_average_pos_weight\n",
    "from src.dataloaders.brats import BRATS\n",
    "import torch\n",
    "train_set = BRATS('../../../../special-course/data/BRATS_20_images', mode=\"train\", subset=0.6, size=[64, 64, 155])\n",
    "valid_set = BRATS('../../../../special-course/data/BRATS_20_images', mode='val', subset=0.6, size=[64, 64, 155])\n",
    "\n",
    "train_dataloader = torch.utils.data.DataLoader(train_set, batch_size=1, shuffle=True, drop_last=True)\n",
    "valid_dataloader = torch.utils.data.DataLoader(valid_set, batch_size=1, shuffle=False, drop_last=False)\n",
    "\n",
    "train = compute_average_pos_weight(train_dataloader)\n",
    "val = compute_average_pos_weight(valid_dataloader)\n",
    "print('tr', train, 'val', val)"
   ]
  },
  {
   "cell_type": "code",
   "execution_count": null,
   "outputs": [],
   "source": [],
   "metadata": {
    "collapsed": false
   }
  },
  {
   "cell_type": "code",
   "execution_count": null,
   "outputs": [],
   "source": [],
   "metadata": {
    "collapsed": false
   }
  }
 ],
 "metadata": {
  "kernelspec": {
   "display_name": "Python 3",
   "language": "python",
   "name": "python3"
  },
  "language_info": {
   "codemirror_mode": {
    "name": "ipython",
    "version": 2
   },
   "file_extension": ".py",
   "mimetype": "text/x-python",
   "name": "python",
   "nbconvert_exporter": "python",
   "pygments_lexer": "ipython2",
   "version": "2.7.6"
  }
 },
 "nbformat": 4,
 "nbformat_minor": 0
}
